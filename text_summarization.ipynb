{
 "cells": [
  {
   "cell_type": "code",
   "execution_count": 8,
   "id": "d2def5d4",
   "metadata": {},
   "outputs": [],
   "source": [
    "import os\n",
    "from dotenv import load_dotenv\n",
    "load_dotenv()\n",
    "import sys\n",
    "from langchain_groq import ChatGroq\n",
    "from langchain_core.messages import AIMessage, HumanMessage,SystemMessage\n",
    "from langchain_core.prompts import ChatPromptTemplate\n",
    "from langchain_core.output_parsers import StrOutputParser\n",
    "\n",
    " "
   ]
  },
  {
   "cell_type": "code",
   "execution_count": 47,
   "id": "52190fc9",
   "metadata": {},
   "outputs": [],
   "source": [
    "groq_api_key = os.getenv(\"GROQ_API_KEY\")\n",
    "if not groq_api_key:\n",
    "    raise ValueError(\"GROQ_API_KEY environment variable not set\")   \n",
    "llm = ChatGroq(\n",
    "    model=\"llama3-8b-8192\",\n",
    "    api_key=groq_api_key)"
   ]
  },
  {
   "cell_type": "code",
   "execution_count": 29,
   "id": "c9eec4d5",
   "metadata": {},
   "outputs": [],
   "source": [
    "speech=\"\"\"\"Speech is the use of the human voice as a medium for language. Spoken language combines vowel and consonant sounds to form units of meaning like words, which belong to a language's lexicon. There are many different intentional speech acts, such as informing, declaring, asking, persuading, directing; acts may vary in various aspects like enunciation, intonation, loudness, and tempo to convey meaning. Individuals may also unintentionally communicate aspects of their social position through speech, such as sex, age, place of origin, physiological and mental condition, education, and experiences.\n",
    "\n",
    "While normally used to facilitate communication with others, people may also use speech without the intent to communicate. Speech may nevertheless express emotions or desires; people talk to themselves sometimes in acts that are a development of what some psychologists (e.g., Lev Vygotsky) have maintained is the use of silent speech in an interior monologue to vivify and organize cognition, sometimes in the momentary adoption of a dual persona as self addressing self as though addressing another person. Solo speech can be used to memorize or to test one's memorization of things, and in prayer or in meditation.\n",
    "\n",
    "Researchers study many different aspects of speech: speech production and speech perception of the sounds used in a language, speech repetition, speech errors, the ability to map heard spoken words onto the vocalizations needed to recreate them, which plays a key role in children's enlargement of their vocabulary, and what different areas of the human brain, such as Broca's area and Wernicke's area, underlie speech. Speech is the subject of study for linguistics, cognitive science, communication studies, psychology, computer science, speech pathology, otolaryngology, and acoustics. Speech compares with written language,[1] which may differ in its vocabulary, syntax, and phonetics from the spoken language, a situation called diglossia.\n",
    "\n",
    "The evolutionary origin of speech is subject to debate and speculation. While animals also communicate using vocalizations, and trained apes such as Washoe and Kanzi can use simple sign language, no animals' vocalizations are articulated phonemically and syntactically, and do not constitute speech.\"\"\""
   ]
  },
  {
   "cell_type": "code",
   "execution_count": 30,
   "id": "13f757ab",
   "metadata": {},
   "outputs": [
    {
     "data": {
      "text/plain": [
       "'\"Speech is the use of the human voice as a medium for language. Spoken language combines vowel and consonant sounds to form units of meaning like words, which belong to a language\\'s lexicon. There are many different intentional speech acts, such as informing, declaring, asking, persuading, directing; acts may vary in various aspects like enunciation, intonation, loudness, and tempo to convey meaning. Individuals may also unintentionally communicate aspects of their social position through speech, such as sex, age, place of origin, physiological and mental condition, education, and experiences.\\n\\nWhile normally used to facilitate communication with others, people may also use speech without the intent to communicate. Speech may nevertheless express emotions or desires; people talk to themselves sometimes in acts that are a development of what some psychologists (e.g., Lev Vygotsky) have maintained is the use of silent speech in an interior monologue to vivify and organize cognition, sometimes in the momentary adoption of a dual persona as self addressing self as though addressing another person. Solo speech can be used to memorize or to test one\\'s memorization of things, and in prayer or in meditation.\\n\\nResearchers study many different aspects of speech: speech production and speech perception of the sounds used in a language, speech repetition, speech errors, the ability to map heard spoken words onto the vocalizations needed to recreate them, which plays a key role in children\\'s enlargement of their vocabulary, and what different areas of the human brain, such as Broca\\'s area and Wernicke\\'s area, underlie speech. Speech is the subject of study for linguistics, cognitive science, communication studies, psychology, computer science, speech pathology, otolaryngology, and acoustics. Speech compares with written language,[1] which may differ in its vocabulary, syntax, and phonetics from the spoken language, a situation called diglossia.\\n\\nThe evolutionary origin of speech is subject to debate and speculation. While animals also communicate using vocalizations, and trained apes such as Washoe and Kanzi can use simple sign language, no animals\\' vocalizations are articulated phonemically and syntactically, and do not constitute speech.'"
      ]
     },
     "execution_count": 30,
     "metadata": {},
     "output_type": "execute_result"
    }
   ],
   "source": [
    "speech"
   ]
  },
  {
   "cell_type": "code",
   "execution_count": 34,
   "id": "6aa763ff",
   "metadata": {},
   "outputs": [],
   "source": [
    "chat_message=[\n",
    "    SystemMessage(\n",
    "        content=\"You are a helpful assistant that summarizes text in a single sentence.\"\n",
    "    ),\n",
    "    HumanMessage(\n",
    "        content=f\" Summarize the following text in a single sentence:{speech} \" \n",
    "    )\n",
    "]    "
   ]
  },
  {
   "cell_type": "code",
   "execution_count": 35,
   "id": "ce3d0730",
   "metadata": {},
   "outputs": [
    {
     "data": {
      "text/plain": [
       "453"
      ]
     },
     "execution_count": 35,
     "metadata": {},
     "output_type": "execute_result"
    }
   ],
   "source": [
    "llm.get_num_tokens(speech)  # Check the number of tokens in the speech text"
   ]
  },
  {
   "cell_type": "code",
   "execution_count": 36,
   "id": "6dba9158",
   "metadata": {},
   "outputs": [
    {
     "data": {
      "text/plain": [
       "'Speech is the use of the human voice to convey meaning through a combination of sounds, words, and intentional acts, and is studied by various fields to understand its production, perception, and role in communication, cognition, and social interaction.'"
      ]
     },
     "execution_count": 36,
     "metadata": {},
     "output_type": "execute_result"
    }
   ],
   "source": [
    "llm(chat_message).content"
   ]
  },
  {
   "cell_type": "markdown",
   "id": "6485f391",
   "metadata": {},
   "source": [
    "#### Prompt Summarization"
   ]
  },
  {
   "cell_type": "code",
   "execution_count": 38,
   "id": "62387d37",
   "metadata": {},
   "outputs": [],
   "source": [
    "from langchain.chains import LLMChain\n",
    "from langchain import PromptTemplate\n",
    "\n",
    "generic_prompt =\"\"\"Summarize the following text : {text} and translate the summary to {language} language\"\"\"\n",
    "\n",
    "prompt = PromptTemplate(\n",
    "    input_variables=[\"text\", \"language\"],\n",
    "    template=generic_prompt\n",
    ")"
   ]
  },
  {
   "cell_type": "code",
   "execution_count": 39,
   "id": "0d4abd4f",
   "metadata": {},
   "outputs": [
    {
     "name": "stderr",
     "output_type": "stream",
     "text": [
      "/var/folders/2g/51_4zjm53jsdymj6s6c9gn880000gn/T/ipykernel_3836/4146744186.py:3: LangChainDeprecationWarning: The class `LLMChain` was deprecated in LangChain 0.1.17 and will be removed in 1.0. Use :meth:`~RunnableSequence, e.g., `prompt | llm`` instead.\n",
      "  llm_chain = LLMChain(\n"
     ]
    }
   ],
   "source": [
    "complete_prommpt = prompt.format(text=speech, language=\"telugu\")\n",
    "\n",
    "llm_chain = LLMChain(\n",
    "    llm=llm,\n",
    "    prompt=prompt)"
   ]
  },
  {
   "cell_type": "code",
   "execution_count": 41,
   "id": "0c663a1b",
   "metadata": {},
   "outputs": [
    {
     "name": "stderr",
     "output_type": "stream",
     "text": [
      "/var/folders/2g/51_4zjm53jsdymj6s6c9gn880000gn/T/ipykernel_3836/2746891238.py:1: LangChainDeprecationWarning: The method `Chain.run` was deprecated in langchain 0.1.0 and will be removed in 1.0. Use :meth:`~invoke` instead.\n",
      "  llm_chain.run(text=speech, language=\"telugu\")  # Run the chain with the speech text and target language\n"
     ]
    },
    {
     "data": {
      "text/plain": [
       "\"Here is a summary of the text:\\n\\nSpeech is the use of the human voice to convey meaning through language. It involves combining vowel and consonant sounds to form words, and can be used intentionally to communicate with others or unintentionally to reveal aspects of one's identity. Speech can also be used for self-expression, memorization, and prayer. Researchers study various aspects of speech, including production, perception, and brain function. The origins of speech are still debated, and while animals communicate vocally, only humans possess true speech.\\n\\nAnd here is the summary translated to Telugu:\\n\\nమానవ స్వరాన్ని భాషా సందేశానికి ఉపయోగించే ప్రక్రియే భాషణం. ఇది అక్షరాలు మరియు స్వరాలను కలిపి పదాలుగా రూపొందించడం. ఇది ఇతరులతో సంప్రదించడానికి లేదా తన గురించి తెలియజేయడానికి ఉపయోగించవచ్చు. భాషణం స్వయం అభివ్యక్తికి, స్మరణకు మరియు ప్రార్థనకు కూడా ఉపయోగించవచ్చు. పరిశోధకులు భాషణం యొక్క వివిధ అంశాలను అధ్యయనం చేస్తున్నారు. భాషణం యొక్క పుట్టుక ఇంకా చర్చకు లోనై ఉంది. జంతువులు కూడా స్వరాలను ఉపయోగించి సంప్రదించడానికి ప్రయత్నం చేస్తున్నాయి, కానీ మానవులు మాత్రమే నిజమైన భాషణం కలిగి ఉన్నారు.\""
      ]
     },
     "execution_count": 41,
     "metadata": {},
     "output_type": "execute_result"
    }
   ],
   "source": [
    "llm_chain.run(text=speech, language=\"telugu\")  # Run the chain with the speech text and target language"
   ]
  },
  {
   "cell_type": "markdown",
   "id": "6014e50c",
   "metadata": {},
   "source": [
    "### Stuff documentation chain Text Summarization"
   ]
  },
  {
   "cell_type": "code",
   "execution_count": 54,
   "id": "1e8a02d5",
   "metadata": {},
   "outputs": [
    {
     "data": {
      "text/plain": [
       "[Document(metadata={'source': '../data/wikipedia.txt'}, page_content=\"India, officially the Republic of India,[j][21] is a country in South Asia. \\nIt is the seventh-largest country by area; the most populous country from June 2023 onwards;[22][23] and\\nsince its independence in 1947, the world's most populous democracy.[24][25][26] Bounded by the Indian Ocean on the south, \\nthe Arabian Sea on the southwest, and the Bay of Bengal on the southeast, it shares land borders with Pakistan to the west;[k] China, Nepal, and Bhutan to the north; and Bangladesh and Myanmar to the east. In the Indian Ocean, India is near Sri Lanka and the Maldives; its Andaman and Nicobar Islands share a maritime border with Thailand, Myanmar, and Indonesia.\\n\\nModern humans arrived on the Indian subcontinent from Africa no later than 55,000 years ago.[28][29][30] Their long occupation, predominantly in isolation as hunter-gatherers, has made the region highly diverse, second only to Africa in human genetic diversity.[31] Settled life emerged on the subcontinent in the western margins of the Indus river basin 9,000 years ago, evolving gradually into the Indus Valley Civilisation of the third millennium BCE.[32] By 1200 BCE, an archaic form of Sanskrit, an Indo-European language, had diffused into India from the northwest.[33][34] Its hymns recorded the dawning of Hinduism in India.[35] India's pre-existing Dravidian languages were supplanted in the northern regions.[36] By 400 BCE, caste had emerged within Hinduism,[37] and Buddhism and Jainism had arisen, proclaiming social orders unlinked to heredity.[38] Early political consolidations gave rise to the loose-knit Maurya and Gupta Empires.[39] Widespread creativity suffused this era,[40] but the status of women declined,[41] and untouchability became an organized belief.[l][42] In South India, the Middle kingdoms exported Dravidian language scripts and religious cultures to the kingdoms of Southeast Asia.[43]\\n\\nIn the early mediaeval era, Christianity, Islam, Judaism, and Zoroastrianism became established on India's southern and western coasts.[44] Muslim armies from Central Asia intermittently overran India's northern plains.[45] The resulting Delhi Sultanate drew northern India into the cosmopolitan networks of mediaeval Islam.[46] In south India, the Vijayanagara Empire created a long-lasting composite Hindu culture.[47] In the Punjab, Sikhism emerged, rejecting institutionalised religion.[48] The Mughal Empire, in 1526, ushered in two centuries of relative peace,[49] leaving a legacy of luminous architecture.[m][50] Gradually expanding rule of the British East India Company followed. It turned India into a colonial economy but consolidated its sovereignty.[51] British Crown rule began in 1858. The rights promised to Indians were granted slowly,[52][53] but technological changes were introduced, and modern ideas of education and public life took root.[54] A pioneering and influential nationalist movement emerged. Noted for nonviolent resistance it became the major factor in ending British rule.[55][56] In 1947, the British Indian Empire was partitioned into two independent dominions,[57][58][59][60] a Hindu-majority dominion of India and a Muslim-majority dominion of Pakistan. A large-scale loss of life and an unprecedented migration accompanied the partition.[61]\")]"
      ]
     },
     "execution_count": 54,
     "metadata": {},
     "output_type": "execute_result"
    }
   ],
   "source": [
    "from langchain_community.document_loaders import TextLoader\n",
    "\n",
    "loader = TextLoader(\"../data/wikipedia.txt\", encoding=\"utf-8\")  # Load the text file\n",
    "documents = loader.load_and_split()\n",
    "documents"
   ]
  },
  {
   "cell_type": "code",
   "execution_count": 55,
   "id": "4c0d872f",
   "metadata": {},
   "outputs": [],
   "source": [
    "template=\"\"\"You are a helpful assistant that summarizes text.\n",
    "Summarize the following text in simple words: {text}\"\"\"\n",
    "\n",
    "prompt = PromptTemplate(\n",
    "    input_variables=[\"text\"],\n",
    "    template=template\n",
    ")"
   ]
  },
  {
   "cell_type": "code",
   "execution_count": 56,
   "id": "6e97c27d",
   "metadata": {},
   "outputs": [],
   "source": [
    "from langchain.chains.summarize import load_summarize_chain\n",
    "\n",
    "chain= load_summarize_chain(\n",
    "    llm=llm,\n",
    "    chain_type=\"stuff\", \n",
    "    prompt=prompt,\n",
    "    verbose=True\n",
    ")"
   ]
  },
  {
   "cell_type": "code",
   "execution_count": 57,
   "id": "5674aa21",
   "metadata": {},
   "outputs": [
    {
     "name": "stdout",
     "output_type": "stream",
     "text": [
      "\n",
      "\n",
      "\u001b[1m> Entering new StuffDocumentsChain chain...\u001b[0m\n",
      "\n",
      "\n",
      "\u001b[1m> Entering new LLMChain chain...\u001b[0m\n",
      "Prompt after formatting:\n",
      "\u001b[32;1m\u001b[1;3mYou are a helpful assistant that summarizes text.\n",
      "Summarize the following text in simple words: India, officially the Republic of India,[j][21] is a country in South Asia. \n",
      "It is the seventh-largest country by area; the most populous country from June 2023 onwards;[22][23] and\n",
      "since its independence in 1947, the world's most populous democracy.[24][25][26] Bounded by the Indian Ocean on the south, \n",
      "the Arabian Sea on the southwest, and the Bay of Bengal on the southeast, it shares land borders with Pakistan to the west;[k] China, Nepal, and Bhutan to the north; and Bangladesh and Myanmar to the east. In the Indian Ocean, India is near Sri Lanka and the Maldives; its Andaman and Nicobar Islands share a maritime border with Thailand, Myanmar, and Indonesia.\n",
      "\n",
      "Modern humans arrived on the Indian subcontinent from Africa no later than 55,000 years ago.[28][29][30] Their long occupation, predominantly in isolation as hunter-gatherers, has made the region highly diverse, second only to Africa in human genetic diversity.[31] Settled life emerged on the subcontinent in the western margins of the Indus river basin 9,000 years ago, evolving gradually into the Indus Valley Civilisation of the third millennium BCE.[32] By 1200 BCE, an archaic form of Sanskrit, an Indo-European language, had diffused into India from the northwest.[33][34] Its hymns recorded the dawning of Hinduism in India.[35] India's pre-existing Dravidian languages were supplanted in the northern regions.[36] By 400 BCE, caste had emerged within Hinduism,[37] and Buddhism and Jainism had arisen, proclaiming social orders unlinked to heredity.[38] Early political consolidations gave rise to the loose-knit Maurya and Gupta Empires.[39] Widespread creativity suffused this era,[40] but the status of women declined,[41] and untouchability became an organized belief.[l][42] In South India, the Middle kingdoms exported Dravidian language scripts and religious cultures to the kingdoms of Southeast Asia.[43]\n",
      "\n",
      "In the early mediaeval era, Christianity, Islam, Judaism, and Zoroastrianism became established on India's southern and western coasts.[44] Muslim armies from Central Asia intermittently overran India's northern plains.[45] The resulting Delhi Sultanate drew northern India into the cosmopolitan networks of mediaeval Islam.[46] In south India, the Vijayanagara Empire created a long-lasting composite Hindu culture.[47] In the Punjab, Sikhism emerged, rejecting institutionalised religion.[48] The Mughal Empire, in 1526, ushered in two centuries of relative peace,[49] leaving a legacy of luminous architecture.[m][50] Gradually expanding rule of the British East India Company followed. It turned India into a colonial economy but consolidated its sovereignty.[51] British Crown rule began in 1858. The rights promised to Indians were granted slowly,[52][53] but technological changes were introduced, and modern ideas of education and public life took root.[54] A pioneering and influential nationalist movement emerged. Noted for nonviolent resistance it became the major factor in ending British rule.[55][56] In 1947, the British Indian Empire was partitioned into two independent dominions,[57][58][59][60] a Hindu-majority dominion of India and a Muslim-majority dominion of Pakistan. A large-scale loss of life and an unprecedented migration accompanied the partition.[61]\u001b[0m\n",
      "\n",
      "\u001b[1m> Finished chain.\u001b[0m\n",
      "\n",
      "\u001b[1m> Finished chain.\u001b[0m\n"
     ]
    },
    {
     "data": {
      "text/plain": [
       "\"Here's a simple summary of the text:\\n\\nIndia is a country in South Asia, the most populous democracy in the world. It's a big country with a long history, dating back to when humans first arrived there around 55,000 years ago. Over time, many different cultures and languages developed, and India became a place of great diversity. The country was ruled by many different empires and kingdoms, including the Mughal Empire, which built many beautiful buildings. Later, India was ruled by the British, but India gained independence in 1947, after a long fight for freedom. The country was divided into two parts, India and Pakistan, and there was a lot of violence and migration during this time.\""
      ]
     },
     "execution_count": 57,
     "metadata": {},
     "output_type": "execute_result"
    }
   ],
   "source": [
    "output= chain.run(documents)  # Run the chain with the loaded documents\n",
    "output"
   ]
  },
  {
   "cell_type": "markdown",
   "id": "512a44e0",
   "metadata": {},
   "source": [
    "## Map Reduce Text Summarization"
   ]
  },
  {
   "cell_type": "code",
   "execution_count": 62,
   "id": "5e9900d4",
   "metadata": {},
   "outputs": [],
   "source": [
    "from langchain.text_splitter import RecursiveCharacterTextSplitter\n",
    "\n",
    "text_splitter = RecursiveCharacterTextSplitter(\n",
    "    chunk_size=1000,\n",
    "    chunk_overlap=200)\n",
    "final_docs = text_splitter.split_documents(documents)"
   ]
  },
  {
   "cell_type": "code",
   "execution_count": 63,
   "id": "3a4b5f27",
   "metadata": {},
   "outputs": [],
   "source": [
    "chunk_prompt = \"\"\"\"Summarize the following text in simple words: {text}\"\"\"\n",
    "\n",
    "map_prompt = PromptTemplate(\n",
    "    input_variables=[\"text\"],\n",
    "    template=chunk_prompt\n",
    ")"
   ]
  },
  {
   "cell_type": "code",
   "execution_count": 64,
   "id": "bdd7ce7b",
   "metadata": {},
   "outputs": [],
   "source": [
    "final_prompt = \"\"\"provide the final summary of the text: {text}\"\"\""
   ]
  },
  {
   "cell_type": "code",
   "execution_count": 65,
   "id": "b4c7536a",
   "metadata": {},
   "outputs": [],
   "source": [
    "final_prompt_template = PromptTemplate(\n",
    "    input_variables=[\"text\"],\n",
    "    template=final_prompt\n",
    ")"
   ]
  },
  {
   "cell_type": "code",
   "execution_count": 66,
   "id": "94d38526",
   "metadata": {},
   "outputs": [],
   "source": [
    "summary_chain = load_summarize_chain(\n",
    "    llm=llm,\n",
    "    chain_type=\"map_reduce\",\n",
    "    map_prompt=map_prompt,\n",
    "    combine_prompt=final_prompt_template,\n",
    "    verbose=True\n",
    ")"
   ]
  },
  {
   "cell_type": "code",
   "execution_count": 67,
   "id": "63d8a5e9",
   "metadata": {},
   "outputs": [
    {
     "name": "stdout",
     "output_type": "stream",
     "text": [
      "\n",
      "\n",
      "\u001b[1m> Entering new MapReduceDocumentsChain chain...\u001b[0m\n",
      "\n",
      "\n",
      "\u001b[1m> Entering new LLMChain chain...\u001b[0m\n",
      "Prompt after formatting:\n",
      "\u001b[32;1m\u001b[1;3m\"Summarize the following text in simple words: India, officially the Republic of India,[j][21] is a country in South Asia. \n",
      "It is the seventh-largest country by area; the most populous country from June 2023 onwards;[22][23] and\n",
      "since its independence in 1947, the world's most populous democracy.[24][25][26] Bounded by the Indian Ocean on the south, \n",
      "the Arabian Sea on the southwest, and the Bay of Bengal on the southeast, it shares land borders with Pakistan to the west;[k] China, Nepal, and Bhutan to the north; and Bangladesh and Myanmar to the east. In the Indian Ocean, India is near Sri Lanka and the Maldives; its Andaman and Nicobar Islands share a maritime border with Thailand, Myanmar, and Indonesia.\u001b[0m\n",
      "Prompt after formatting:\n",
      "\u001b[32;1m\u001b[1;3m\"Summarize the following text in simple words: Modern humans arrived on the Indian subcontinent from Africa no later than 55,000 years ago.[28][29][30] Their long occupation, predominantly in isolation as hunter-gatherers, has made the region highly diverse, second only to Africa in human genetic diversity.[31] Settled life emerged on the subcontinent in the western margins of the Indus river basin 9,000 years ago, evolving gradually into the Indus Valley Civilisation of the third millennium BCE.[32] By 1200 BCE, an archaic form of Sanskrit, an Indo-European language, had diffused into India from the northwest.[33][34] Its hymns recorded the dawning of Hinduism in India.[35] India's pre-existing Dravidian languages were supplanted in the northern regions.[36] By 400 BCE, caste had emerged within Hinduism,[37] and Buddhism and Jainism had arisen, proclaiming social orders unlinked to heredity.[38] Early political consolidations gave rise to the loose-knit Maurya and Gupta Empires.[39] Widespread creativity suffused this era,[40]\u001b[0m\n",
      "Prompt after formatting:\n",
      "\u001b[32;1m\u001b[1;3m\"Summarize the following text in simple words: had arisen, proclaiming social orders unlinked to heredity.[38] Early political consolidations gave rise to the loose-knit Maurya and Gupta Empires.[39] Widespread creativity suffused this era,[40] but the status of women declined,[41] and untouchability became an organized belief.[l][42] In South India, the Middle kingdoms exported Dravidian language scripts and religious cultures to the kingdoms of Southeast Asia.[43]\u001b[0m\n",
      "Prompt after formatting:\n",
      "\u001b[32;1m\u001b[1;3m\"Summarize the following text in simple words: In the early mediaeval era, Christianity, Islam, Judaism, and Zoroastrianism became established on India's southern and western coasts.[44] Muslim armies from Central Asia intermittently overran India's northern plains.[45] The resulting Delhi Sultanate drew northern India into the cosmopolitan networks of mediaeval Islam.[46] In south India, the Vijayanagara Empire created a long-lasting composite Hindu culture.[47] In the Punjab, Sikhism emerged, rejecting institutionalised religion.[48] The Mughal Empire, in 1526, ushered in two centuries of relative peace,[49] leaving a legacy of luminous architecture.[m][50] Gradually expanding rule of the British East India Company followed. It turned India into a colonial economy but consolidated its sovereignty.[51] British Crown rule began in 1858. The rights promised to Indians were granted slowly,[52][53] but technological changes were introduced, and modern ideas of education and public life took root.[54] A pioneering and influential\u001b[0m\n",
      "Prompt after formatting:\n",
      "\u001b[32;1m\u001b[1;3m\"Summarize the following text in simple words: 1858. The rights promised to Indians were granted slowly,[52][53] but technological changes were introduced, and modern ideas of education and public life took root.[54] A pioneering and influential nationalist movement emerged. Noted for nonviolent resistance it became the major factor in ending British rule.[55][56] In 1947, the British Indian Empire was partitioned into two independent dominions,[57][58][59][60] a Hindu-majority dominion of India and a Muslim-majority dominion of Pakistan. A large-scale loss of life and an unprecedented migration accompanied the partition.[61]\u001b[0m\n",
      "\n",
      "\u001b[1m> Finished chain.\u001b[0m\n",
      "\n",
      "\n",
      "\u001b[1m> Entering new LLMChain chain...\u001b[0m\n",
      "Prompt after formatting:\n",
      "\u001b[32;1m\u001b[1;3mprovide the final summary of the text: Here's a simple summary:\n",
      "\n",
      "India is a country in South Asia that is the 7th largest in the world by area and has the most people in the world. It is a democracy, which means that the people get to choose their leaders. India has borders with many countries, including Pakistan, China, Nepal, Bangladesh, and Myanmar. It also has a coastline along the Indian Ocean and shares borders with other countries in the ocean, such as Sri Lanka and the Maldives.\n",
      "\n",
      "Here's a summary of the text in simple words:\n",
      "\n",
      "* Modern humans arrived in India from Africa over 55,000 years ago.\n",
      "* For a long time, people in India lived in small groups, hunting and gathering food. This made the region very diverse, with many different languages and cultures.\n",
      "* Around 9,000 years ago, people started settling down and building cities, like the Indus Valley Civilization.\n",
      "* Over time, people from the northwest of India brought a language called Sanskrit, which became an important part of Hinduism.\n",
      "* Hinduism spread throughout India, and with it came the idea of castes (social classes). Other religions like Buddhism and Jainism also emerged, which emphasized that social status wasn't determined by birth.\n",
      "* As people came together in larger groups, they formed early empires, like the Maurya and Gupta Empires.\n",
      "* This was a time of great creativity in India, with many achievements in art, literature, and architecture.\n",
      "\n",
      "Here's a summary of the text in simple words:\n",
      "\n",
      "A long time ago, a new idea emerged that people's social status shouldn't be decided by their family or birth. This led to the formation of two big empires, the Maurya and Gupta Empires. During this time, people were very creative, but women's status decreased and the idea of \"untouchability\" became more widespread. In southern India, people from this region shared their writing systems and religious beliefs with other kingdoms in Southeast Asia.\n",
      "\n",
      "Here's a simple summary of the text:\n",
      "\n",
      "A long time ago, different religions like Christianity, Islam, Judaism, and Zoroastrianism spread to India's coasts. Muslims took over the north and the Delhi Sultanate was formed. In the south, the Vijayanagara Empire created a mix of Hindu cultures. Sikhism emerged in the Punjab, rejecting organized religion. Later, the Mughal Empire brought peace and beautiful architecture. The British East India Company took over and made India a colony, but eventually, the British Crown ruled India. Gradually, Indians got more rights and modern ideas like education and public life became popular.\n",
      "\n",
      "Here's a simple summary of the text:\n",
      "\n",
      "In 1858, India slowly started to get the rights it was promised by the British. New ideas and technology came to India, and people started to think about education and public life in a new way. A group of Indian nationalists emerged, who believed in non-violent resistance to fight for their rights. This movement was very successful and eventually led to India gaining independence from British rule in 1947. At that time, India was divided into two separate countries: India, where most people were Hindu, and Pakistan, where most people were Muslim. This division was very sad and many people had to leave their homes to move to a new country.\u001b[0m\n",
      "\n",
      "\u001b[1m> Finished chain.\u001b[0m\n",
      "\n",
      "\u001b[1m> Finished chain.\u001b[0m\n"
     ]
    },
    {
     "data": {
      "text/plain": [
       "\"Here is the final summary of the text in simple words:\\n\\nIndia is a country in South Asia with a long and diverse history. Early humans came to India from Africa, and over time, different cultures and languages developed. India has been ruled by various empires, including the Maurya, Gupta, Mughal, and British, each leaving their mark on the country's architecture, art, and literature. In the 19th century, India started to gain independence from British rule, and a movement of non-violent resistance led to India's independence in 1947. At that time, India was divided into two separate countries: India and Pakistan.\""
      ]
     },
     "execution_count": 67,
     "metadata": {},
     "output_type": "execute_result"
    }
   ],
   "source": [
    "summary_chain.run(final_docs)  # Run the summary chain with the final documents"
   ]
  },
  {
   "cell_type": "markdown",
   "id": "fadd8f80",
   "metadata": {},
   "source": [
    "### Refine chain for Summarization"
   ]
  },
  {
   "cell_type": "code",
   "execution_count": 68,
   "id": "c7e28fbf",
   "metadata": {},
   "outputs": [
    {
     "name": "stdout",
     "output_type": "stream",
     "text": [
      "\n",
      "\n",
      "\u001b[1m> Entering new RefineDocumentsChain chain...\u001b[0m\n",
      "\n",
      "\n",
      "\u001b[1m> Entering new LLMChain chain...\u001b[0m\n",
      "Prompt after formatting:\n",
      "\u001b[32;1m\u001b[1;3mWrite a concise summary of the following:\n",
      "\n",
      "\n",
      "\"India, officially the Republic of India,[j][21] is a country in South Asia. \n",
      "It is the seventh-largest country by area; the most populous country from June 2023 onwards;[22][23] and\n",
      "since its independence in 1947, the world's most populous democracy.[24][25][26] Bounded by the Indian Ocean on the south, \n",
      "the Arabian Sea on the southwest, and the Bay of Bengal on the southeast, it shares land borders with Pakistan to the west;[k] China, Nepal, and Bhutan to the north; and Bangladesh and Myanmar to the east. In the Indian Ocean, India is near Sri Lanka and the Maldives; its Andaman and Nicobar Islands share a maritime border with Thailand, Myanmar, and Indonesia.\"\n",
      "\n",
      "\n",
      "CONCISE SUMMARY:\u001b[0m\n",
      "\n",
      "\u001b[1m> Finished chain.\u001b[0m\n",
      "\n",
      "\n",
      "\u001b[1m> Entering new LLMChain chain...\u001b[0m\n",
      "Prompt after formatting:\n",
      "\u001b[32;1m\u001b[1;3mYour job is to produce a final summary.\n",
      "We have provided an existing summary up to a certain point: Here is a concise summary:\n",
      "\n",
      "India is a country in South Asia, the 7th largest by area, and home to the world's largest democracy since 1947. It borders several countries, including Pakistan, China, Nepal, Bhutan, Bangladesh, and Myanmar, and has maritime borders with Sri Lanka, the Maldives, Thailand, Myanmar, and Indonesia.\n",
      "We have the opportunity to refine the existing summary (only if needed) with some more context below.\n",
      "------------\n",
      "Modern humans arrived on the Indian subcontinent from Africa no later than 55,000 years ago.[28][29][30] Their long occupation, predominantly in isolation as hunter-gatherers, has made the region highly diverse, second only to Africa in human genetic diversity.[31] Settled life emerged on the subcontinent in the western margins of the Indus river basin 9,000 years ago, evolving gradually into the Indus Valley Civilisation of the third millennium BCE.[32] By 1200 BCE, an archaic form of Sanskrit, an Indo-European language, had diffused into India from the northwest.[33][34] Its hymns recorded the dawning of Hinduism in India.[35] India's pre-existing Dravidian languages were supplanted in the northern regions.[36] By 400 BCE, caste had emerged within Hinduism,[37] and Buddhism and Jainism had arisen, proclaiming social orders unlinked to heredity.[38] Early political consolidations gave rise to the loose-knit Maurya and Gupta Empires.[39] Widespread creativity suffused this era,[40]\n",
      "------------\n",
      "Given the new context, refine the original summary.\n",
      "If the context isn't useful, return the original summary.\u001b[0m\n",
      "\n",
      "\u001b[1m> Finished chain.\u001b[0m\n",
      "\n",
      "\n",
      "\u001b[1m> Entering new LLMChain chain...\u001b[0m\n",
      "Prompt after formatting:\n",
      "\u001b[32;1m\u001b[1;3mYour job is to produce a final summary.\n",
      "We have provided an existing summary up to a certain point: Based on the new context, I'll refine the original summary to provide a more comprehensive overview of India. Here's the revised summary:\n",
      "\n",
      "India is a country in South Asia, the 7th largest by area, and home to the world's largest democracy since 1947. It borders several countries, including Pakistan, China, Nepal, Bhutan, Bangladesh, and Myanmar, and has maritime borders with Sri Lanka, the Maldives, Thailand, Myanmar, and Indonesia. With a rich cultural heritage, India is a region of significant human genetic diversity, with modern humans arriving on the Indian subcontinent from Africa at least 55,000 years ago. The subcontinent has a long and complex history, with the Indus Valley Civilisation emerging around 9,000 years ago and gradually evolving into the Indus Valley Civilization of the third millennium BCE. The arrival of Indo-European languages, such as Sanskrit, around 1200 BCE had a profound impact on Indian culture, leading to the emergence of Hinduism and the spread of Buddhism and Jainism. The region has also been shaped by early political consolidations, including the Maurya and Gupta Empires, and has been a hub of creativity and innovation throughout its history.\n",
      "\n",
      "I've added a few sentences to provide a brief overview of India's cultural heritage, history, and diversity, while still maintaining the essential information from the original summary.\n",
      "We have the opportunity to refine the existing summary (only if needed) with some more context below.\n",
      "------------\n",
      "had arisen, proclaiming social orders unlinked to heredity.[38] Early political consolidations gave rise to the loose-knit Maurya and Gupta Empires.[39] Widespread creativity suffused this era,[40] but the status of women declined,[41] and untouchability became an organized belief.[l][42] In South India, the Middle kingdoms exported Dravidian language scripts and religious cultures to the kingdoms of Southeast Asia.[43]\n",
      "------------\n",
      "Given the new context, refine the original summary.\n",
      "If the context isn't useful, return the original summary.\u001b[0m\n",
      "\n",
      "\u001b[1m> Finished chain.\u001b[0m\n",
      "\n",
      "\n",
      "\u001b[1m> Entering new LLMChain chain...\u001b[0m\n",
      "Prompt after formatting:\n",
      "\u001b[32;1m\u001b[1;3mYour job is to produce a final summary.\n",
      "We have provided an existing summary up to a certain point: Here is the refined summary:\n",
      "\n",
      "India is a country in South Asia, the 7th largest by area, and home to the world's largest democracy since 1947. It borders several countries, including Pakistan, China, Nepal, Bhutan, Bangladesh, and Myanmar, and has maritime borders with Sri Lanka, the Maldives, Thailand, Myanmar, and Indonesia. With a rich cultural heritage, India is a region of significant human genetic diversity, with modern humans arriving on the Indian subcontinent from Africa at least 55,000 years ago. The subcontinent has a long and complex history, with the Indus Valley Civilisation emerging around 9,000 years ago and gradually evolving into the Indus Valley Civilization of the third millennium BCE. The arrival of Indo-European languages, such as Sanskrit, around 1200 BCE had a profound impact on Indian culture, leading to the emergence of Hinduism and the spread of Buddhism and Jainism. The region has also been shaped by early political consolidations, including the Maurya and Gupta Empires, which gave rise to loose-knit empires. During this era, widespread creativity flourished, but the status of women declined, and untouchability became an organized belief. In South India, the Middle kingdoms exported Dravidian language scripts and religious cultures to the kingdoms of Southeast Asia.\n",
      "We have the opportunity to refine the existing summary (only if needed) with some more context below.\n",
      "------------\n",
      "In the early mediaeval era, Christianity, Islam, Judaism, and Zoroastrianism became established on India's southern and western coasts.[44] Muslim armies from Central Asia intermittently overran India's northern plains.[45] The resulting Delhi Sultanate drew northern India into the cosmopolitan networks of mediaeval Islam.[46] In south India, the Vijayanagara Empire created a long-lasting composite Hindu culture.[47] In the Punjab, Sikhism emerged, rejecting institutionalised religion.[48] The Mughal Empire, in 1526, ushered in two centuries of relative peace,[49] leaving a legacy of luminous architecture.[m][50] Gradually expanding rule of the British East India Company followed. It turned India into a colonial economy but consolidated its sovereignty.[51] British Crown rule began in 1858. The rights promised to Indians were granted slowly,[52][53] but technological changes were introduced, and modern ideas of education and public life took root.[54] A pioneering and influential\n",
      "------------\n",
      "Given the new context, refine the original summary.\n",
      "If the context isn't useful, return the original summary.\u001b[0m\n",
      "\n",
      "\u001b[1m> Finished chain.\u001b[0m\n",
      "\n",
      "\n",
      "\u001b[1m> Entering new LLMChain chain...\u001b[0m\n",
      "Prompt after formatting:\n",
      "\u001b[32;1m\u001b[1;3mYour job is to produce a final summary.\n",
      "We have provided an existing summary up to a certain point: After considering the new context, I have refined the original summary to provide a more comprehensive overview of India's history and culture. Here is the revised summary:\n",
      "\n",
      "India is a country in South Asia, the 7th largest by area, and home to the world's largest democracy since 1947. It borders several countries, including Pakistan, China, Nepal, Bhutan, Bangladesh, and Myanmar, and has maritime borders with Sri Lanka, the Maldives, Thailand, Myanmar, and Indonesia. With a rich cultural heritage, India is a region of significant human genetic diversity, with modern humans arriving on the Indian subcontinent from Africa at least 55,000 years ago. The subcontinent has a long and complex history, with the Indus Valley Civilisation emerging around 9,000 years ago and gradually evolving into the Indus Valley Civilization of the third millennium BCE. The arrival of Indo-European languages, such as Sanskrit, around 1200 BCE had a profound impact on Indian culture, leading to the emergence of Hinduism and the spread of Buddhism and Jainism. The region has also been shaped by early political consolidations, including the Maurya and Gupta Empires, which gave rise to loose-knit empires. During this era, widespread creativity flourished, but the status of women declined, and untouchability became an organized belief. In South India, the Middle kingdoms exported Dravidian language scripts and religious cultures to the kingdoms of Southeast Asia.\n",
      "\n",
      "Over time, India was influenced by various religious and cultural traditions. In the early mediaeval era, Christianity, Islam, Judaism, and Zoroastrianism became established on India's southern and western coasts. The Delhi Sultanate, Vijayanagara Empire, and Mughal Empire played significant roles in shaping Indian culture, with the Mughal Empire leaving a lasting legacy of architecture. The British East India Company's expansion and the subsequent British Crown rule introduced technological changes and modern ideas of education and public life, although the rights promised to Indians were granted slowly. Today, India is a diverse and vibrant country with a rich cultural heritage, shaped by its complex history and the interactions of various cultures and empires.\n",
      "We have the opportunity to refine the existing summary (only if needed) with some more context below.\n",
      "------------\n",
      "1858. The rights promised to Indians were granted slowly,[52][53] but technological changes were introduced, and modern ideas of education and public life took root.[54] A pioneering and influential nationalist movement emerged. Noted for nonviolent resistance it became the major factor in ending British rule.[55][56] In 1947, the British Indian Empire was partitioned into two independent dominions,[57][58][59][60] a Hindu-majority dominion of India and a Muslim-majority dominion of Pakistan. A large-scale loss of life and an unprecedented migration accompanied the partition.[61]\n",
      "------------\n",
      "Given the new context, refine the original summary.\n",
      "If the context isn't useful, return the original summary.\u001b[0m\n",
      "\n",
      "\u001b[1m> Finished chain.\u001b[0m\n",
      "\n",
      "\u001b[1m> Finished chain.\u001b[0m\n"
     ]
    },
    {
     "data": {
      "text/plain": [
       "\"Here is the refined summary:\\n\\nIndia is a country in South Asia, the 7th largest by area, and home to the world's largest democracy since 1947. It borders several countries, including Pakistan, China, Nepal, Bhutan, Bangladesh, and Myanmar, and has maritime borders with Sri Lanka, the Maldives, Thailand, Myanmar, and Indonesia. With a rich cultural heritage, India is a region of significant human genetic diversity, with modern humans arriving on the Indian subcontinent from Africa at least 55,000 years ago. The subcontinent has a long and complex history, with the Indus Valley Civilization emerging around 9,000 years ago and gradually evolving into the Indus Valley Civilization of the third millennium BCE. The arrival of Indo-European languages, such as Sanskrit, around 1200 BCE had a profound impact on Indian culture, leading to the emergence of Hinduism and the spread of Buddhism and Jainism. The region has also been shaped by early political consolidations, including the Maurya and Gupta Empires, which gave rise to loose-knit empires. During this era, widespread creativity flourished, but the status of women declined, and untouchability became an organized belief. In South India, the Middle kingdoms exported Dravidian language scripts and religious cultures to the kingdoms of Southeast Asia.\\n\\nOver time, India was influenced by various religious and cultural traditions. In the early mediaeval era, Christianity, Islam, Judaism, and Zoroastrianism became established on India's southern and western coasts. The Delhi Sultanate, Vijayanagara Empire, and Mughal Empire played significant roles in shaping Indian culture, with the Mughal Empire leaving a lasting legacy of architecture. The British East India Company's expansion and the subsequent British Crown rule introduced technological changes and modern ideas of education and public life, although the rights promised to Indians were granted slowly. The Indian nationalist movement, marked by nonviolent resistance, emerged in the late 19th century and played a pivotal role in ending British rule. India gained independence in 1947, following the partition of the British Indian Empire into two dominions: a Hindu-majority India and a Muslim-majority Pakistan. The partition was accompanied by a large-scale loss of life and an unprecedented migration. Today, India is a diverse and vibrant country with a rich cultural heritage, shaped by its complex history and the interactions of various cultures and empires.\""
      ]
     },
     "execution_count": 68,
     "metadata": {},
     "output_type": "execute_result"
    }
   ],
   "source": [
    "chain=load_summarize_chain(\n",
    "    llm=llm,\n",
    "    chain_type=\"refine\",\n",
    "    verbose=True\n",
    ")\n",
    "\n",
    "chain.run(final_docs)  # Run the refine chain with the final documents"
   ]
  },
  {
   "cell_type": "code",
   "execution_count": null,
   "id": "d753a4dc",
   "metadata": {},
   "outputs": [],
   "source": []
  }
 ],
 "metadata": {
  "kernelspec": {
   "display_name": "llm",
   "language": "python",
   "name": "python3"
  },
  "language_info": {
   "codemirror_mode": {
    "name": "ipython",
    "version": 3
   },
   "file_extension": ".py",
   "mimetype": "text/x-python",
   "name": "python",
   "nbconvert_exporter": "python",
   "pygments_lexer": "ipython3",
   "version": "3.13.5"
  }
 },
 "nbformat": 4,
 "nbformat_minor": 5
}
